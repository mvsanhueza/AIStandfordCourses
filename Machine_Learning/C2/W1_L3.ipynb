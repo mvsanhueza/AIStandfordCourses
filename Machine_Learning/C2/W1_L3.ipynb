{
 "cells": [
  {
   "cell_type": "code",
   "execution_count": 1,
   "metadata": {},
   "outputs": [
    {
     "ename": "ImportError",
     "evalue": "cannot import name 'sigmoid' from 'utils.W1_lab_utils_common' (c:\\Users\\Mati Sanhueza\\OneDrive - Universidad Católica de Chile\\Documentos\\Cursos\\AI\\Machine_Learning\\C2\\utils\\W1_lab_utils_common.py)",
     "output_type": "error",
     "traceback": [
      "\u001b[1;31m---------------------------------------------------------------------------\u001b[0m",
      "\u001b[1;31mImportError\u001b[0m                               Traceback (most recent call last)",
      "\u001b[1;32mc:\\Users\\Mati Sanhueza\\OneDrive - Universidad Católica de Chile\\Documentos\\Cursos\\AI\\Machine_Learning\\C2\\W1_L3.ipynb Cell 1\u001b[0m line \u001b[0;36m4\n\u001b[0;32m      <a href='vscode-notebook-cell:/c%3A/Users/Mati%20Sanhueza/OneDrive%20-%20Universidad%20Cat%C3%B3lica%20de%20Chile/Documentos/Cursos/AI/Machine_Learning/C2/W1_L3.ipynb#W0sZmlsZQ%3D%3D?line=1'>2</a>\u001b[0m \u001b[39mimport\u001b[39;00m \u001b[39mmatplotlib\u001b[39;00m\u001b[39m.\u001b[39;00m\u001b[39mpyplot\u001b[39;00m \u001b[39mas\u001b[39;00m \u001b[39mplt\u001b[39;00m\n\u001b[0;32m      <a href='vscode-notebook-cell:/c%3A/Users/Mati%20Sanhueza/OneDrive%20-%20Universidad%20Cat%C3%B3lica%20de%20Chile/Documentos/Cursos/AI/Machine_Learning/C2/W1_L3.ipynb#W0sZmlsZQ%3D%3D?line=2'>3</a>\u001b[0m \u001b[39mimport\u001b[39;00m \u001b[39mtensorflow\u001b[39;00m \u001b[39mas\u001b[39;00m \u001b[39mtf\u001b[39;00m\n\u001b[1;32m----> <a href='vscode-notebook-cell:/c%3A/Users/Mati%20Sanhueza/OneDrive%20-%20Universidad%20Cat%C3%B3lica%20de%20Chile/Documentos/Cursos/AI/Machine_Learning/C2/W1_L3.ipynb#W0sZmlsZQ%3D%3D?line=3'>4</a>\u001b[0m \u001b[39mfrom\u001b[39;00m \u001b[39mutils\u001b[39;00m\u001b[39m.\u001b[39;00m\u001b[39mW1_lab_utils_common\u001b[39;00m \u001b[39mimport\u001b[39;00m dlc, sigmoid \n\u001b[0;32m      <a href='vscode-notebook-cell:/c%3A/Users/Mati%20Sanhueza/OneDrive%20-%20Universidad%20Cat%C3%B3lica%20de%20Chile/Documentos/Cursos/AI/Machine_Learning/C2/W1_L3.ipynb#W0sZmlsZQ%3D%3D?line=4'>5</a>\u001b[0m \u001b[39mfrom\u001b[39;00m \u001b[39mutils\u001b[39;00m\u001b[39m.\u001b[39;00m\u001b[39mW1_lab_coffee_utils\u001b[39;00m \u001b[39mimport\u001b[39;00m load_coffee_data, plt_roast, plt_prob, plt_layer, plt_network, plt_output_unit\n\u001b[0;32m      <a href='vscode-notebook-cell:/c%3A/Users/Mati%20Sanhueza/OneDrive%20-%20Universidad%20Cat%C3%B3lica%20de%20Chile/Documentos/Cursos/AI/Machine_Learning/C2/W1_L3.ipynb#W0sZmlsZQ%3D%3D?line=5'>6</a>\u001b[0m \u001b[39mimport\u001b[39;00m \u001b[39mlogging\u001b[39;00m\n",
      "\u001b[1;31mImportError\u001b[0m: cannot import name 'sigmoid' from 'utils.W1_lab_utils_common' (c:\\Users\\Mati Sanhueza\\OneDrive - Universidad Católica de Chile\\Documentos\\Cursos\\AI\\Machine_Learning\\C2\\utils\\W1_lab_utils_common.py)"
     ]
    }
   ],
   "source": [
    "import numpy as np\n",
    "import matplotlib.pyplot as plt\n",
    "import tensorflow as tf\n",
    "from utils.W1_lab_utils_common import dlc, sigmoid \n",
    "from utils.W1_lab_coffee_utils import load_coffee_data, plt_roast, plt_prob, plt_layer, plt_network, plt_output_unit\n",
    "import logging\n",
    "logging.getLogger(\"tensorflow\").setLevel(logging.ERROR)\n",
    "tf.autograph.set_verbosity(0)"
   ]
  }
 ],
 "metadata": {
  "kernelspec": {
   "display_name": ".venv",
   "language": "python",
   "name": "python3"
  },
  "language_info": {
   "codemirror_mode": {
    "name": "ipython",
    "version": 3
   },
   "file_extension": ".py",
   "mimetype": "text/x-python",
   "name": "python",
   "nbconvert_exporter": "python",
   "pygments_lexer": "ipython3",
   "version": "3.11.6"
  }
 },
 "nbformat": 4,
 "nbformat_minor": 2
}
